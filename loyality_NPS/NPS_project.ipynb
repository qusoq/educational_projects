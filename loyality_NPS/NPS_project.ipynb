{
 "cells": [
  {
   "cell_type": "markdown",
   "id": "a0c77ecb",
   "metadata": {},
   "source": [
    "# Определение уровня потребительской лояльности (NPS)"
   ]
  },
  {
   "cell_type": "markdown",
   "id": "0dfe4d38",
   "metadata": {},
   "source": [
    "**Заказчик исследования** — большая телекоммуникационная компания, которая оказывает услуги на территории всего СНГ.  \n",
    "Перед компанией стоит *задача определить текущий уровень потребительской лояльности, или NPS* (от англ. Net Promoter Score),  \n",
    "среди клиентов из России.  \n",
    "\n",
    "Чтобы определить уровень лояльности, клиентам задавали классический вопрос: «Оцените по шкале от 1 до 10 вероятность того, что вы порекомендуете компанию друзьям и знакомым».  \n",
    "\n",
    "Компания провела опрос и попросила подготовить дашборд с его итогами.  \n",
    "Большую базу данных для такой задачи разворачивать не стали и выгрузили данные в SQLite. "
   ]
  },
  {
   "cell_type": "markdown",
   "id": "52e5ec8d",
   "metadata": {},
   "source": [
    "## Вопросы исследования"
   ]
  },
  {
   "cell_type": "markdown",
   "id": "6317af8e",
   "metadata": {},
   "source": [
    "- Как распределены участники опроса по возрасту и полу? Каких пользователей больше: новых или старых? Пользователи из каких городов активнее участвовали в опросе?\n",
    "- Какие группы пользователей наиболее лояльны к сервису? Какие менее?\n",
    "- Какой общий NPS среди всех опрошенных?\n",
    "- Как можно описать клиентов, которые относятся к группе cторонников (англ. promoters)?"
   ]
  },
  {
   "cell_type": "markdown",
   "id": "b25ec517",
   "metadata": {},
   "source": [
    "## Описание данных"
   ]
  },
  {
   "cell_type": "markdown",
   "id": "cab223a0",
   "metadata": {},
   "source": [
    "База состоит из 5 следующих таблиц."
   ]
  },
  {
   "cell_type": "markdown",
   "id": "5c8c34e7",
   "metadata": {},
   "source": [
    "### Таблица **user**  \n",
    "Содержит основную информацию о клиентах.  \n",
    "\n",
    "*Состав*: \n",
    "- **user_id**\t- Идентификатор клиента, первичный ключ таблицы\n",
    "- **lt_day**\t- Количество дней «жизни» клиента\n",
    "- **age** - Возраст клиента в годах\n",
    "- **gender_segment**\t- Пол клиента (1 – женщина, 0 – мужчина)\n",
    "- **os_name** - Тип операционной системы\n",
    "- **cpe_type_name**\t- Тип устройства\n",
    "- **location_id**\t- Идентификатор домашнего региона клиента, внешний ключ, отсылающий к таблице location\n",
    "- **age_gr_id**\t- Идентификатор возрастного сегмента клиента, внешний ключ, отсылающий к таблице age_segment\n",
    "- **tr_gr_id**\t- Идентификатор сегмента клиента по объёму потребляемого трафика в месяц, внешний ключ, отсылающий к таблице traffic_segment\n",
    "- **lt_gr_id**\t- Идентификатор сегмента клиента по количеству месяцев «жизни», внешний ключ, отсылающий к таблице lifetime_segment\n",
    "- **nps_score**\t- Оценка клиента в NPS-опросе (от 1 до 10)\n"
   ]
  },
  {
   "cell_type": "markdown",
   "id": "9438a83c",
   "metadata": {},
   "source": [
    "### Таблица **location**  \n",
    "Справочник территорий, в которых телеком-компания оказывает услуги.  \n",
    "\n",
    "*Состав*: \n",
    "- **location_id**\t- Идентификатор записи, первичный ключ\n",
    "- **country**\t- Страна\n",
    "- **city**\t- Город  "
   ]
  },
  {
   "cell_type": "markdown",
   "id": "506679f8",
   "metadata": {},
   "source": [
    "### Таблица **age_segment**  \n",
    "Данные о возрастных сегментах клиентов.  \n",
    "\n",
    "*Состав*: \n",
    "- **age_gr_id**\t- Идентификатор сегмента, первичный ключ\n",
    "- **bucket_min**\t- Минимальная граница сегмента\n",
    "- **bucket_max**\t- Максимальная граница сегмента\n",
    "- **title**\t- Название сегмента  "
   ]
  },
  {
   "cell_type": "markdown",
   "id": "adfbddee",
   "metadata": {},
   "source": [
    "### Таблица **traffic_segment**  \n",
    "Данные о выделяемых сегментах по объёму потребляемого трафика.  \n",
    "\n",
    "*Состав*: \n",
    "- **tr_gr_id**\t- Идентификатор сегмента, первичный ключ\n",
    "- **bucket_min**\t- Минимальная граница сегмента\n",
    "- **bucket_max**\t- Максимальная граница сегмента\n",
    "- **title**\t- Название сегмента"
   ]
  },
  {
   "cell_type": "markdown",
   "id": "78fd815f",
   "metadata": {},
   "source": [
    "### Таблица **lifetime_segment**  \n",
    "Данные о выделяемых сегментах по количеству месяцев «жизни» клиента — лайфтайму.  \n",
    "\n",
    "*Состав*: \n",
    "- **lt_gr_id**\t- Идентификатор сегмента, первичный ключ\n",
    "- **bucket_min**\t- Минимальная граница сегмента\n",
    "- **bucket_max**\t- Максимальная граница сегмента\n",
    "- **title**\t- Название сегмента"
   ]
  },
  {
   "cell_type": "markdown",
   "id": "5c555081",
   "metadata": {},
   "source": [
    "## План работы  \n",
    "- Определить какие поля из таблиц понадобятся в работе\n",
    "- Подключиться к базе\n",
    "- Подготовить SQL-запрос и выгрузить необходимые данные\n",
    "- Импортировать в Tableau получившуюся выгрузку\n",
    "- Рассчитать NPS по формуле: % «сторонников» - % «критиков»\n",
    "- Подготовить графики и дашборды, необходимые для ответа на вопросы исследования\n",
    "- Сделать выводы\n",
    "- Подготовить и опубликовать презентацию"
   ]
  },
  {
   "cell_type": "markdown",
   "id": "f5c39dee",
   "metadata": {},
   "source": [
    "## Определение необходимых полей"
   ]
  },
  {
   "cell_type": "markdown",
   "id": "1ac98448",
   "metadata": {},
   "source": [
    "Нам понадобятся следущие поля:  \n",
    "\n",
    "- **user_id**\t- Идентификатор клиента\n",
    "- **lt_day**\t- Количество дней «жизни» клиента\n",
    "- **is_new**\t- Поле хранит информацию о том, является ли клиент новым\n",
    "- **age**\t- Возраст\n",
    "- **gender_segment**\t- Пол (для удобства работы с полем мы преобразуем значения в текстовый вид)\n",
    "- **os_name**\t- Тип операционной системы\n",
    "- **cpe_type_name**\t- Тип устройства\n",
    "- **country**\t- Страна проживания\n",
    "- **city**\t- Город проживания\n",
    "- **age_segment**\t- Возрастной сегмент\n",
    "- **traffic_segment**\t- Сегмент по объёму потребляемого трафика\n",
    "- **lifetime_segment**\t- Сегмент по количеству дней «жизни»\n",
    "- **nps_score**\t- Оценка клиента в NPS-опросе\n",
    "- **nps_group**\t- Поле хранит информацию о том, к какой группе относится оценка клиента в опросе\n"
   ]
  },
  {
   "cell_type": "markdown",
   "id": "abcb0b1e",
   "metadata": {},
   "source": [
    "Для удобства составления SQL-запроса набросаем схему базы данных, обозначим необходимые нам поля и ключи.  \n",
    "\n",
    "![](//i.ibb.co/dccVgWC/image.jpg)"
   ]
  },
  {
   "cell_type": "markdown",
   "id": "4054b8b6",
   "metadata": {},
   "source": [
    "## Подключение к базе"
   ]
  },
  {
   "cell_type": "code",
   "execution_count": 1,
   "id": "fc7efa54",
   "metadata": {},
   "outputs": [],
   "source": [
    "import os\n",
    "import pandas as pd\n",
    "import numpy as np\n",
    "\n",
    "from sqlalchemy import create_engine"
   ]
  },
  {
   "cell_type": "code",
   "execution_count": 2,
   "id": "0017f8e7",
   "metadata": {},
   "outputs": [],
   "source": [
    "path_to_db_local = 'telecomm_csi.db'\n",
    "path_to_db_platform = '/datasets/telecomm_csi.db'\n",
    "path_to_db = None\n",
    "\n",
    "if os.path.exists(path_to_db_local):\n",
    "    path_to_db = path_to_db_local\n",
    "elif os.path.exists(path_to_db_platform):\n",
    "    path_to_db = path_to_db_platform\n",
    "else:\n",
    "    raise Exception('Файл с базой данных SQLite не найден!')\n",
    "\n",
    "if path_to_db:\n",
    "    engine = create_engine(f'sqlite:///{path_to_db}', echo=False)"
   ]
  },
  {
   "cell_type": "markdown",
   "id": "3c26edd7",
   "metadata": {},
   "source": [
    "## Выгрузка"
   ]
  },
  {
   "cell_type": "markdown",
   "id": "f47c460a",
   "metadata": {},
   "source": [
    "Согласно описанию данных поле gender_segment содержит значения в виде 0 и 1 (где 0 - мужчина, а 1 - женщина).  \n",
    "Для удобства мы хотим изменить цифровое значение поля на текстовое, но для начала мы удостоверимся, что в базе отсутствуют пропущенные значения в этом поле."
   ]
  },
  {
   "cell_type": "code",
   "execution_count": 17,
   "id": "b7dc3027",
   "metadata": {},
   "outputs": [],
   "source": [
    "query1 = \"\"\"\n",
    "    SELECT \n",
    "           COUNT(*)\n",
    "    FROM user\n",
    "    WHERE gender_segment IS NULL\n",
    "\"\"\""
   ]
  },
  {
   "cell_type": "code",
   "execution_count": 18,
   "id": "991ebf7a",
   "metadata": {},
   "outputs": [
    {
     "data": {
      "text/html": [
       "<div>\n",
       "<style scoped>\n",
       "    .dataframe tbody tr th:only-of-type {\n",
       "        vertical-align: middle;\n",
       "    }\n",
       "\n",
       "    .dataframe tbody tr th {\n",
       "        vertical-align: top;\n",
       "    }\n",
       "\n",
       "    .dataframe thead th {\n",
       "        text-align: right;\n",
       "    }\n",
       "</style>\n",
       "<table border=\"1\" class=\"dataframe\">\n",
       "  <thead>\n",
       "    <tr style=\"text-align: right;\">\n",
       "      <th></th>\n",
       "      <th>COUNT(*)</th>\n",
       "    </tr>\n",
       "  </thead>\n",
       "  <tbody>\n",
       "    <tr>\n",
       "      <th>0</th>\n",
       "      <td>1301</td>\n",
       "    </tr>\n",
       "  </tbody>\n",
       "</table>\n",
       "</div>"
      ],
      "text/plain": [
       "   COUNT(*)\n",
       "0      1301"
      ]
     },
     "execution_count": 18,
     "metadata": {},
     "output_type": "execute_result"
    }
   ],
   "source": [
    "df1 = pd.read_sql(query1, engine)\n",
    "df1"
   ]
  },
  {
   "cell_type": "markdown",
   "id": "07151ab1",
   "metadata": {},
   "source": [
    "У нас получилось 1301 поле, где не указан пол. Такие поля мы заполним значениями с текстом \"Не определен\"."
   ]
  },
  {
   "cell_type": "code",
   "execution_count": 20,
   "id": "84ebad43",
   "metadata": {},
   "outputs": [],
   "source": [
    "query2 = \"\"\"\n",
    "    SELECT  user_id,\n",
    "            lt_day,\n",
    "            CASE\n",
    "                WHEN lt_day <= 365 THEN 'True'\n",
    "                ELSE 'False'\n",
    "            END as is_new,\n",
    "            age,\n",
    "            CASE\n",
    "                WHEN gender_segment = '1' THEN 'женщина'\n",
    "                WHEN gender_segment = '0' THEN 'мужчина'\n",
    "                ELSE 'Не определен'\n",
    "            END as gender_segment,\n",
    "            os_name,\n",
    "            cpe_type_name,\n",
    "            Country,\n",
    "            City,\n",
    "            SUBSTRING (a.title, 4) as age_segment,\n",
    "            SUBSTRING (t.title, 4) as traffic_segment,\n",
    "            SUBSTRING (lf.title, 4) as lifetime_segment,\n",
    "            nps_score,\n",
    "            CASE\n",
    "                WHEN nps_score >= 9 THEN 'сторонники'\n",
    "                WHEN nps_score = 7 OR nps_score = 8 THEN 'нейтралы'\n",
    "                ELSE 'критики'\n",
    "            END as nps_group\n",
    "    FROM user as u\n",
    "    JOIN location as loc ON u.location_id = loc.location_id\n",
    "    JOIN age_segment as a ON u.age_gr_id = a.age_gr_id\n",
    "    JOIN traffic_segment as t ON u.tr_gr_id = t.tr_gr_id\n",
    "    JOIN lifetime_segment as lf ON u.lt_gr_id = lf.lt_gr_id;\n",
    "\"\"\""
   ]
  },
  {
   "cell_type": "code",
   "execution_count": 22,
   "id": "3965faf2",
   "metadata": {},
   "outputs": [
    {
     "data": {
      "text/html": [
       "<div>\n",
       "<style scoped>\n",
       "    .dataframe tbody tr th:only-of-type {\n",
       "        vertical-align: middle;\n",
       "    }\n",
       "\n",
       "    .dataframe tbody tr th {\n",
       "        vertical-align: top;\n",
       "    }\n",
       "\n",
       "    .dataframe thead th {\n",
       "        text-align: right;\n",
       "    }\n",
       "</style>\n",
       "<table border=\"1\" class=\"dataframe\">\n",
       "  <thead>\n",
       "    <tr style=\"text-align: right;\">\n",
       "      <th></th>\n",
       "      <th>user_id</th>\n",
       "      <th>lt_day</th>\n",
       "      <th>is_new</th>\n",
       "      <th>age</th>\n",
       "      <th>gender_segment</th>\n",
       "      <th>os_name</th>\n",
       "      <th>cpe_type_name</th>\n",
       "      <th>country</th>\n",
       "      <th>city</th>\n",
       "      <th>age_segment</th>\n",
       "      <th>traffic_segment</th>\n",
       "      <th>lifetime_segment</th>\n",
       "      <th>nps_score</th>\n",
       "      <th>nps_group</th>\n",
       "    </tr>\n",
       "  </thead>\n",
       "  <tbody>\n",
       "    <tr>\n",
       "      <th>173594</th>\n",
       "      <td>IYNW4J</td>\n",
       "      <td>819</td>\n",
       "      <td>False</td>\n",
       "      <td>65.0</td>\n",
       "      <td>мужчина</td>\n",
       "      <td>ANDROID</td>\n",
       "      <td>SMARTPHONE</td>\n",
       "      <td>Россия</td>\n",
       "      <td>Москва</td>\n",
       "      <td>66 +</td>\n",
       "      <td>25-30</td>\n",
       "      <td>25-36</td>\n",
       "      <td>10</td>\n",
       "      <td>сторонники</td>\n",
       "    </tr>\n",
       "    <tr>\n",
       "      <th>263527</th>\n",
       "      <td>NMOJTB</td>\n",
       "      <td>821</td>\n",
       "      <td>False</td>\n",
       "      <td>42.0</td>\n",
       "      <td>мужчина</td>\n",
       "      <td>ANDROID</td>\n",
       "      <td>SMARTPHONE</td>\n",
       "      <td>Россия</td>\n",
       "      <td>Ижевск</td>\n",
       "      <td>35-44</td>\n",
       "      <td>1-5</td>\n",
       "      <td>25-36</td>\n",
       "      <td>10</td>\n",
       "      <td>сторонники</td>\n",
       "    </tr>\n",
       "    <tr>\n",
       "      <th>62838</th>\n",
       "      <td>D8IQ2F</td>\n",
       "      <td>2885</td>\n",
       "      <td>False</td>\n",
       "      <td>52.0</td>\n",
       "      <td>мужчина</td>\n",
       "      <td>ANDROID</td>\n",
       "      <td>SMARTPHONE</td>\n",
       "      <td>Россия</td>\n",
       "      <td>Тюмень</td>\n",
       "      <td>45-54</td>\n",
       "      <td>40-45</td>\n",
       "      <td>36+</td>\n",
       "      <td>9</td>\n",
       "      <td>сторонники</td>\n",
       "    </tr>\n",
       "    <tr>\n",
       "      <th>311577</th>\n",
       "      <td>Q4D6Z7</td>\n",
       "      <td>5048</td>\n",
       "      <td>False</td>\n",
       "      <td>13.0</td>\n",
       "      <td>мужчина</td>\n",
       "      <td>ANDROID</td>\n",
       "      <td>SMARTPHONE</td>\n",
       "      <td>Россия</td>\n",
       "      <td>Казань</td>\n",
       "      <td>до 16</td>\n",
       "      <td>55-60</td>\n",
       "      <td>36+</td>\n",
       "      <td>10</td>\n",
       "      <td>сторонники</td>\n",
       "    </tr>\n",
       "    <tr>\n",
       "      <th>191688</th>\n",
       "      <td>JWN84S</td>\n",
       "      <td>5531</td>\n",
       "      <td>False</td>\n",
       "      <td>56.0</td>\n",
       "      <td>женщина</td>\n",
       "      <td>ANDROID</td>\n",
       "      <td>SMARTPHONE</td>\n",
       "      <td>Россия</td>\n",
       "      <td>НижнийНовгород</td>\n",
       "      <td>55-64</td>\n",
       "      <td>1-5</td>\n",
       "      <td>36+</td>\n",
       "      <td>1</td>\n",
       "      <td>критики</td>\n",
       "    </tr>\n",
       "    <tr>\n",
       "      <th>378383</th>\n",
       "      <td>TKSBZP</td>\n",
       "      <td>556</td>\n",
       "      <td>False</td>\n",
       "      <td>21.0</td>\n",
       "      <td>женщина</td>\n",
       "      <td>IOS</td>\n",
       "      <td>SMARTPHONE</td>\n",
       "      <td>Россия</td>\n",
       "      <td>Ижевск</td>\n",
       "      <td>16-24</td>\n",
       "      <td>50-55</td>\n",
       "      <td>13-24</td>\n",
       "      <td>10</td>\n",
       "      <td>сторонники</td>\n",
       "    </tr>\n",
       "    <tr>\n",
       "      <th>293108</th>\n",
       "      <td>P5T1FL</td>\n",
       "      <td>955</td>\n",
       "      <td>False</td>\n",
       "      <td>63.0</td>\n",
       "      <td>мужчина</td>\n",
       "      <td>ANDROID</td>\n",
       "      <td>SMARTPHONE</td>\n",
       "      <td>Россия</td>\n",
       "      <td>НижнийТагил</td>\n",
       "      <td>55-64</td>\n",
       "      <td>55-60</td>\n",
       "      <td>25-36</td>\n",
       "      <td>8</td>\n",
       "      <td>нейтралы</td>\n",
       "    </tr>\n",
       "    <tr>\n",
       "      <th>35978</th>\n",
       "      <td>BV05ER</td>\n",
       "      <td>2813</td>\n",
       "      <td>False</td>\n",
       "      <td>37.0</td>\n",
       "      <td>мужчина</td>\n",
       "      <td>ANDROID</td>\n",
       "      <td>SMARTPHONE</td>\n",
       "      <td>Россия</td>\n",
       "      <td>Владимир</td>\n",
       "      <td>35-44</td>\n",
       "      <td>0.1-1</td>\n",
       "      <td>36+</td>\n",
       "      <td>10</td>\n",
       "      <td>сторонники</td>\n",
       "    </tr>\n",
       "    <tr>\n",
       "      <th>121850</th>\n",
       "      <td>G9ZN6P</td>\n",
       "      <td>2882</td>\n",
       "      <td>False</td>\n",
       "      <td>35.0</td>\n",
       "      <td>мужчина</td>\n",
       "      <td>ANDROID</td>\n",
       "      <td>SMARTPHONE</td>\n",
       "      <td>Россия</td>\n",
       "      <td>Екатеринбург</td>\n",
       "      <td>35-44</td>\n",
       "      <td>50-55</td>\n",
       "      <td>36+</td>\n",
       "      <td>10</td>\n",
       "      <td>сторонники</td>\n",
       "    </tr>\n",
       "    <tr>\n",
       "      <th>152609</th>\n",
       "      <td>HVJQA2</td>\n",
       "      <td>586</td>\n",
       "      <td>False</td>\n",
       "      <td>27.0</td>\n",
       "      <td>женщина</td>\n",
       "      <td>ANDROID</td>\n",
       "      <td>SMARTPHONE</td>\n",
       "      <td>Россия</td>\n",
       "      <td>Новосибирск</td>\n",
       "      <td>25-34</td>\n",
       "      <td>15-20</td>\n",
       "      <td>13-24</td>\n",
       "      <td>10</td>\n",
       "      <td>сторонники</td>\n",
       "    </tr>\n",
       "    <tr>\n",
       "      <th>415479</th>\n",
       "      <td>VHMIYZ</td>\n",
       "      <td>52</td>\n",
       "      <td>True</td>\n",
       "      <td>60.0</td>\n",
       "      <td>мужчина</td>\n",
       "      <td>ANDROID</td>\n",
       "      <td>SMARTPHONE</td>\n",
       "      <td>Россия</td>\n",
       "      <td>Пермь</td>\n",
       "      <td>55-64</td>\n",
       "      <td>1-5</td>\n",
       "      <td>2</td>\n",
       "      <td>10</td>\n",
       "      <td>сторонники</td>\n",
       "    </tr>\n",
       "    <tr>\n",
       "      <th>137756</th>\n",
       "      <td>H3R68J</td>\n",
       "      <td>4429</td>\n",
       "      <td>False</td>\n",
       "      <td>49.0</td>\n",
       "      <td>женщина</td>\n",
       "      <td>OTHER</td>\n",
       "      <td>SMARTPHONE</td>\n",
       "      <td>Россия</td>\n",
       "      <td>СанктПетербург</td>\n",
       "      <td>45-54</td>\n",
       "      <td>10-15</td>\n",
       "      <td>36+</td>\n",
       "      <td>1</td>\n",
       "      <td>критики</td>\n",
       "    </tr>\n",
       "    <tr>\n",
       "      <th>486215</th>\n",
       "      <td>Z5D544</td>\n",
       "      <td>2694</td>\n",
       "      <td>False</td>\n",
       "      <td>32.0</td>\n",
       "      <td>женщина</td>\n",
       "      <td>ANDROID</td>\n",
       "      <td>SMARTPHONE</td>\n",
       "      <td>Россия</td>\n",
       "      <td>Волгоград</td>\n",
       "      <td>25-34</td>\n",
       "      <td>5-10</td>\n",
       "      <td>36+</td>\n",
       "      <td>8</td>\n",
       "      <td>нейтралы</td>\n",
       "    </tr>\n",
       "    <tr>\n",
       "      <th>305707</th>\n",
       "      <td>PTF154</td>\n",
       "      <td>716</td>\n",
       "      <td>False</td>\n",
       "      <td>33.0</td>\n",
       "      <td>женщина</td>\n",
       "      <td>ANDROID</td>\n",
       "      <td>SMARTPHONE</td>\n",
       "      <td>Россия</td>\n",
       "      <td>Калининград</td>\n",
       "      <td>25-34</td>\n",
       "      <td>0.1-1</td>\n",
       "      <td>13-24</td>\n",
       "      <td>10</td>\n",
       "      <td>сторонники</td>\n",
       "    </tr>\n",
       "    <tr>\n",
       "      <th>377120</th>\n",
       "      <td>TIEC4P</td>\n",
       "      <td>1000</td>\n",
       "      <td>False</td>\n",
       "      <td>51.0</td>\n",
       "      <td>женщина</td>\n",
       "      <td>ANDROID</td>\n",
       "      <td>SMARTPHONE</td>\n",
       "      <td>Россия</td>\n",
       "      <td>Архангельск</td>\n",
       "      <td>45-54</td>\n",
       "      <td>5-10</td>\n",
       "      <td>25-36</td>\n",
       "      <td>10</td>\n",
       "      <td>сторонники</td>\n",
       "    </tr>\n",
       "  </tbody>\n",
       "</table>\n",
       "</div>"
      ],
      "text/plain": [
       "       user_id  lt_day is_new   age gender_segment  os_name cpe_type_name  \\\n",
       "173594  IYNW4J     819  False  65.0        мужчина  ANDROID    SMARTPHONE   \n",
       "263527  NMOJTB     821  False  42.0        мужчина  ANDROID    SMARTPHONE   \n",
       "62838   D8IQ2F    2885  False  52.0        мужчина  ANDROID    SMARTPHONE   \n",
       "311577  Q4D6Z7    5048  False  13.0        мужчина  ANDROID    SMARTPHONE   \n",
       "191688  JWN84S    5531  False  56.0        женщина  ANDROID    SMARTPHONE   \n",
       "378383  TKSBZP     556  False  21.0        женщина      IOS    SMARTPHONE   \n",
       "293108  P5T1FL     955  False  63.0        мужчина  ANDROID    SMARTPHONE   \n",
       "35978   BV05ER    2813  False  37.0        мужчина  ANDROID    SMARTPHONE   \n",
       "121850  G9ZN6P    2882  False  35.0        мужчина  ANDROID    SMARTPHONE   \n",
       "152609  HVJQA2     586  False  27.0        женщина  ANDROID    SMARTPHONE   \n",
       "415479  VHMIYZ      52   True  60.0        мужчина  ANDROID    SMARTPHONE   \n",
       "137756  H3R68J    4429  False  49.0        женщина    OTHER    SMARTPHONE   \n",
       "486215  Z5D544    2694  False  32.0        женщина  ANDROID    SMARTPHONE   \n",
       "305707  PTF154     716  False  33.0        женщина  ANDROID    SMARTPHONE   \n",
       "377120  TIEC4P    1000  False  51.0        женщина  ANDROID    SMARTPHONE   \n",
       "\n",
       "       country            city age_segment traffic_segment lifetime_segment  \\\n",
       "173594  Россия          Москва        66 +           25-30            25-36   \n",
       "263527  Россия          Ижевск       35-44             1-5            25-36   \n",
       "62838   Россия          Тюмень       45-54           40-45              36+   \n",
       "311577  Россия          Казань       до 16           55-60              36+   \n",
       "191688  Россия  НижнийНовгород       55-64             1-5              36+   \n",
       "378383  Россия          Ижевск       16-24           50-55            13-24   \n",
       "293108  Россия     НижнийТагил       55-64           55-60            25-36   \n",
       "35978   Россия        Владимир       35-44           0.1-1              36+   \n",
       "121850  Россия    Екатеринбург       35-44           50-55              36+   \n",
       "152609  Россия     Новосибирск       25-34           15-20            13-24   \n",
       "415479  Россия           Пермь       55-64             1-5                2   \n",
       "137756  Россия  СанктПетербург       45-54           10-15              36+   \n",
       "486215  Россия       Волгоград       25-34            5-10              36+   \n",
       "305707  Россия     Калининград       25-34           0.1-1            13-24   \n",
       "377120  Россия     Архангельск       45-54            5-10            25-36   \n",
       "\n",
       "        nps_score   nps_group  \n",
       "173594         10  сторонники  \n",
       "263527         10  сторонники  \n",
       "62838           9  сторонники  \n",
       "311577         10  сторонники  \n",
       "191688          1     критики  \n",
       "378383         10  сторонники  \n",
       "293108          8    нейтралы  \n",
       "35978          10  сторонники  \n",
       "121850         10  сторонники  \n",
       "152609         10  сторонники  \n",
       "415479         10  сторонники  \n",
       "137756          1     критики  \n",
       "486215          8    нейтралы  \n",
       "305707         10  сторонники  \n",
       "377120         10  сторонники  "
      ]
     },
     "execution_count": 22,
     "metadata": {},
     "output_type": "execute_result"
    }
   ],
   "source": [
    "df2 = pd.read_sql(query2, engine)\n",
    "df2.sample(15)"
   ]
  },
  {
   "cell_type": "code",
   "execution_count": 23,
   "id": "9db04858",
   "metadata": {},
   "outputs": [],
   "source": [
    "df2.to_csv('telecomm_csi_tableau.csv', index=False)"
   ]
  },
  {
   "cell_type": "code",
   "execution_count": 24,
   "id": "00e5d2c8",
   "metadata": {},
   "outputs": [
    {
     "name": "stdout",
     "output_type": "stream",
     "text": [
      "<class 'pandas.core.frame.DataFrame'>\n",
      "RangeIndex: 502493 entries, 0 to 502492\n",
      "Data columns (total 14 columns):\n",
      " #   Column            Non-Null Count   Dtype  \n",
      "---  ------            --------------   -----  \n",
      " 0   user_id           502493 non-null  object \n",
      " 1   lt_day            502493 non-null  int64  \n",
      " 2   is_new            502493 non-null  object \n",
      " 3   age               501939 non-null  float64\n",
      " 4   gender_segment    502493 non-null  object \n",
      " 5   os_name           502493 non-null  object \n",
      " 6   cpe_type_name     502493 non-null  object \n",
      " 7   country           502493 non-null  object \n",
      " 8   city              502493 non-null  object \n",
      " 9   age_segment       502493 non-null  object \n",
      " 10  traffic_segment   502493 non-null  object \n",
      " 11  lifetime_segment  502493 non-null  object \n",
      " 12  nps_score         502493 non-null  int64  \n",
      " 13  nps_group         502493 non-null  object \n",
      "dtypes: float64(1), int64(2), object(11)\n",
      "memory usage: 53.7+ MB\n"
     ]
    }
   ],
   "source": [
    "df2.info()"
   ]
  },
  {
   "cell_type": "markdown",
   "id": "553b1287",
   "metadata": {},
   "source": [
    "## Ссылка на презентацию в Tableau"
   ]
  },
  {
   "cell_type": "markdown",
   "id": "1c3ebcac",
   "metadata": {},
   "source": [
    "https://public.tableau.com/views/_NPS___v2/sheet10?:language=en-US&publish=yes&:display_count=n&:origin=viz_share_link"
   ]
  }
 ],
 "metadata": {
  "ExecuteTimeLog": [
   {
    "duration": 8,
    "start_time": "2024-01-15T15:43:14.430Z"
   },
   {
    "duration": 513,
    "start_time": "2024-01-15T15:43:17.380Z"
   },
   {
    "duration": 84,
    "start_time": "2024-01-15T15:43:17.895Z"
   },
   {
    "duration": 2,
    "start_time": "2024-01-15T15:43:18.160Z"
   },
   {
    "duration": 4391,
    "start_time": "2024-01-15T15:43:31.308Z"
   },
   {
    "duration": 2991,
    "start_time": "2024-01-15T15:43:35.701Z"
   },
   {
    "duration": 4,
    "start_time": "2024-01-15T16:04:29.677Z"
   },
   {
    "duration": 532,
    "start_time": "2024-01-15T16:04:30.138Z"
   },
   {
    "duration": 89,
    "start_time": "2024-01-15T16:04:37.554Z"
   },
   {
    "duration": 3,
    "start_time": "2024-01-15T16:14:27.087Z"
   },
   {
    "duration": 2845,
    "start_time": "2024-01-15T16:14:27.751Z"
   },
   {
    "duration": 3,
    "start_time": "2024-01-15T16:39:53.512Z"
   },
   {
    "duration": 428,
    "start_time": "2024-01-15T16:39:54.509Z"
   },
   {
    "duration": 2,
    "start_time": "2024-01-15T16:40:12.234Z"
   },
   {
    "duration": 2953,
    "start_time": "2024-01-15T16:40:13.386Z"
   },
   {
    "duration": 3,
    "start_time": "2024-01-15T16:40:27.023Z"
   },
   {
    "duration": 2987,
    "start_time": "2024-01-15T16:40:28.270Z"
   },
   {
    "duration": 3,
    "start_time": "2024-01-15T16:45:15.891Z"
   },
   {
    "duration": 3235,
    "start_time": "2024-01-15T16:45:17.059Z"
   },
   {
    "duration": 3,
    "start_time": "2024-01-15T16:45:31.131Z"
   },
   {
    "duration": 3551,
    "start_time": "2024-01-15T16:45:31.951Z"
   },
   {
    "duration": 2788,
    "start_time": "2024-01-15T16:50:52.108Z"
   },
   {
    "duration": 231,
    "start_time": "2024-01-15T16:50:54.898Z"
   },
   {
    "duration": 3,
    "start_time": "2024-01-15T16:53:01.505Z"
   },
   {
    "duration": 581,
    "start_time": "2024-01-15T16:53:02.343Z"
   },
   {
    "duration": 3,
    "start_time": "2024-01-15T16:53:31.808Z"
   },
   {
    "duration": 3523,
    "start_time": "2024-01-15T16:53:32.383Z"
   },
   {
    "duration": 3,
    "start_time": "2024-01-15T16:54:01.337Z"
   },
   {
    "duration": 4103,
    "start_time": "2024-01-15T16:54:02.016Z"
   },
   {
    "duration": 4466,
    "start_time": "2024-01-15T16:54:17.003Z"
   },
   {
    "duration": 357,
    "start_time": "2024-01-15T16:54:21.471Z"
   },
   {
    "duration": 3,
    "start_time": "2024-01-15T16:54:36.145Z"
   },
   {
    "duration": 4092,
    "start_time": "2024-01-15T16:54:37.712Z"
   },
   {
    "duration": 3914,
    "start_time": "2024-01-15T16:54:41.806Z"
   },
   {
    "duration": 314,
    "start_time": "2024-01-15T16:54:45.722Z"
   },
   {
    "duration": 3,
    "start_time": "2024-01-15T16:54:52.038Z"
   },
   {
    "duration": 4048,
    "start_time": "2024-01-15T16:54:53.674Z"
   },
   {
    "duration": 3740,
    "start_time": "2024-01-15T16:54:57.725Z"
   },
   {
    "duration": 323,
    "start_time": "2024-01-15T16:55:01.467Z"
   },
   {
    "duration": 3,
    "start_time": "2024-01-15T17:00:27.906Z"
   },
   {
    "duration": 5056,
    "start_time": "2024-01-15T17:00:28.728Z"
   },
   {
    "duration": 3,
    "start_time": "2024-01-15T17:01:57.004Z"
   },
   {
    "duration": 5049,
    "start_time": "2024-01-15T17:01:57.492Z"
   },
   {
    "duration": 5028,
    "start_time": "2024-01-15T17:03:36.437Z"
   },
   {
    "duration": 3,
    "start_time": "2024-01-15T17:04:57.536Z"
   },
   {
    "duration": 502,
    "start_time": "2024-01-15T17:05:07.040Z"
   },
   {
    "duration": 3,
    "start_time": "2024-01-15T17:33:06.993Z"
   },
   {
    "duration": 381,
    "start_time": "2024-01-15T17:33:07.941Z"
   },
   {
    "duration": 3,
    "start_time": "2024-01-15T17:33:27.417Z"
   },
   {
    "duration": 372,
    "start_time": "2024-01-15T17:33:28.890Z"
   },
   {
    "duration": 2,
    "start_time": "2024-01-15T17:33:32.383Z"
   },
   {
    "duration": 3,
    "start_time": "2024-01-15T17:33:41.764Z"
   },
   {
    "duration": 344,
    "start_time": "2024-01-15T17:33:42.613Z"
   },
   {
    "duration": 3,
    "start_time": "2024-01-15T17:40:07.845Z"
   },
   {
    "duration": 498,
    "start_time": "2024-01-15T17:40:08.538Z"
   },
   {
    "duration": 3,
    "start_time": "2024-01-15T17:41:30.015Z"
   },
   {
    "duration": 555,
    "start_time": "2024-01-15T17:41:42.933Z"
   },
   {
    "duration": 68,
    "start_time": "2024-01-15T17:41:43.490Z"
   },
   {
    "duration": 3,
    "start_time": "2024-01-15T17:41:43.560Z"
   },
   {
    "duration": 5670,
    "start_time": "2024-01-15T17:41:43.565Z"
   },
   {
    "duration": 4505,
    "start_time": "2024-01-15T17:41:49.237Z"
   },
   {
    "duration": 498,
    "start_time": "2024-01-15T17:41:53.744Z"
   },
   {
    "duration": 5182,
    "start_time": "2024-01-15T17:41:58.161Z"
   },
   {
    "duration": 500,
    "start_time": "2024-01-15T17:43:38.327Z"
   },
   {
    "duration": 3,
    "start_time": "2024-01-15T17:53:03.770Z"
   },
   {
    "duration": 417,
    "start_time": "2024-01-15T17:53:04.843Z"
   },
   {
    "duration": 3,
    "start_time": "2024-01-15T17:53:12.770Z"
   },
   {
    "duration": 5670,
    "start_time": "2024-01-15T17:53:13.336Z"
   },
   {
    "duration": 5593,
    "start_time": "2024-01-15T17:53:32.225Z"
   },
   {
    "duration": 4,
    "start_time": "2024-01-15T17:55:32.322Z"
   },
   {
    "duration": 5897,
    "start_time": "2024-01-15T17:55:34.583Z"
   },
   {
    "duration": 568,
    "start_time": "2024-01-15T17:57:07.231Z"
   },
   {
    "duration": 82,
    "start_time": "2024-01-15T17:57:07.801Z"
   },
   {
    "duration": 4,
    "start_time": "2024-01-15T17:57:07.884Z"
   },
   {
    "duration": 5750,
    "start_time": "2024-01-15T17:57:07.889Z"
   },
   {
    "duration": 4949,
    "start_time": "2024-01-15T17:57:13.641Z"
   },
   {
    "duration": 574,
    "start_time": "2024-01-15T17:57:18.592Z"
   },
   {
    "duration": 557,
    "start_time": "2024-01-15T17:58:12.188Z"
   },
   {
    "duration": 66,
    "start_time": "2024-01-15T17:58:12.747Z"
   },
   {
    "duration": 3,
    "start_time": "2024-01-15T17:58:12.817Z"
   },
   {
    "duration": 5718,
    "start_time": "2024-01-15T17:58:12.822Z"
   },
   {
    "duration": 5213,
    "start_time": "2024-01-15T17:58:18.542Z"
   },
   {
    "duration": 570,
    "start_time": "2024-01-15T17:58:23.757Z"
   },
   {
    "duration": 518,
    "start_time": "2024-01-15T18:08:52.256Z"
   },
   {
    "duration": 65,
    "start_time": "2024-01-15T18:08:52.776Z"
   },
   {
    "duration": 3,
    "start_time": "2024-01-15T18:08:52.843Z"
   },
   {
    "duration": 5688,
    "start_time": "2024-01-15T18:08:52.848Z"
   },
   {
    "duration": 4709,
    "start_time": "2024-01-15T18:08:58.539Z"
   },
   {
    "duration": 559,
    "start_time": "2024-01-15T18:09:03.250Z"
   },
   {
    "duration": 523,
    "start_time": "2024-01-15T18:15:11.154Z"
   },
   {
    "duration": 79,
    "start_time": "2024-01-15T18:15:11.679Z"
   },
   {
    "duration": 4,
    "start_time": "2024-01-15T18:15:11.759Z"
   },
   {
    "duration": 5616,
    "start_time": "2024-01-15T18:15:11.764Z"
   },
   {
    "duration": 4790,
    "start_time": "2024-01-15T18:15:17.382Z"
   },
   {
    "duration": 543,
    "start_time": "2024-01-15T18:15:22.173Z"
   },
   {
    "duration": 89,
    "start_time": "2024-01-23T10:57:58.569Z"
   },
   {
    "duration": 2,
    "start_time": "2024-01-23T10:58:10.403Z"
   },
   {
    "duration": 44,
    "start_time": "2024-01-23T10:58:13.056Z"
   },
   {
    "duration": 543,
    "start_time": "2024-01-23T10:58:46.705Z"
   },
   {
    "duration": 93,
    "start_time": "2024-01-23T10:58:48.096Z"
   },
   {
    "duration": 4,
    "start_time": "2024-01-23T10:58:51.770Z"
   },
   {
    "duration": 1794,
    "start_time": "2024-01-23T10:58:53.338Z"
   },
   {
    "duration": 3,
    "start_time": "2024-01-23T11:00:00.791Z"
   },
   {
    "duration": 696,
    "start_time": "2024-01-23T11:00:02.370Z"
   },
   {
    "duration": 2,
    "start_time": "2024-01-23T11:00:16.258Z"
   },
   {
    "duration": 542,
    "start_time": "2024-01-23T11:00:17.179Z"
   },
   {
    "duration": 2,
    "start_time": "2024-01-23T11:01:28.671Z"
   },
   {
    "duration": 535,
    "start_time": "2024-01-23T11:01:30.684Z"
   },
   {
    "duration": 3,
    "start_time": "2024-01-23T11:05:04.591Z"
   },
   {
    "duration": 539,
    "start_time": "2024-01-23T11:05:07.208Z"
   },
   {
    "duration": 2,
    "start_time": "2024-01-23T11:05:58.741Z"
   },
   {
    "duration": 528,
    "start_time": "2024-01-23T11:05:59.183Z"
   },
   {
    "duration": 3,
    "start_time": "2024-01-23T11:09:25.519Z"
   },
   {
    "duration": 521,
    "start_time": "2024-01-23T11:09:26.090Z"
   },
   {
    "duration": 2,
    "start_time": "2024-01-23T11:11:13.263Z"
   },
   {
    "duration": 548,
    "start_time": "2024-01-23T11:11:13.682Z"
   },
   {
    "duration": 3,
    "start_time": "2024-01-23T11:12:39.657Z"
   },
   {
    "duration": 3,
    "start_time": "2024-01-23T11:13:17.425Z"
   },
   {
    "duration": 5371,
    "start_time": "2024-01-23T11:15:10.696Z"
   },
   {
    "duration": 5432,
    "start_time": "2024-01-23T11:15:23.663Z"
   },
   {
    "duration": 4959,
    "start_time": "2024-01-23T11:15:43.677Z"
   },
   {
    "duration": 517,
    "start_time": "2024-01-23T11:16:13.395Z"
   }
  ],
  "kernelspec": {
   "display_name": "Python 3 (ipykernel)",
   "language": "python",
   "name": "python3"
  },
  "language_info": {
   "codemirror_mode": {
    "name": "ipython",
    "version": 3
   },
   "file_extension": ".py",
   "mimetype": "text/x-python",
   "name": "python",
   "nbconvert_exporter": "python",
   "pygments_lexer": "ipython3",
   "version": "3.9.5"
  },
  "toc": {
   "base_numbering": 1,
   "nav_menu": {},
   "number_sections": true,
   "sideBar": true,
   "skip_h1_title": true,
   "title_cell": "Table of Contents",
   "title_sidebar": "Contents",
   "toc_cell": false,
   "toc_position": {},
   "toc_section_display": true,
   "toc_window_display": true
  }
 },
 "nbformat": 4,
 "nbformat_minor": 5
}
